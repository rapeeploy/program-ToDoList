{
  "nbformat": 4,
  "nbformat_minor": 0,
  "metadata": {
    "colab": {
      "provenance": []
    },
    "kernelspec": {
      "name": "python3",
      "display_name": "Python 3"
    },
    "language_info": {
      "name": "python"
    }
  },
  "cells": [
    {
      "cell_type": "code",
      "source": [
        "tasks = []\n",
        "\n",
        "def add_task(task):\n",
        "    tasks.append(task)\n",
        "    print(\"Task added: \" , task)\n",
        "\n",
        "def complete_task(task_number):\n",
        "    completed_task = tasks.pop(task_number) \n",
        "    print(\"Task completed: \" , completed_task)\n",
        "\n",
        "def list_tasks():\n",
        "    for i, task in enumerate(tasks,1):\n",
        "      print(i,\": \",task)\n",
        "      \n",
        "print(\"Create your To Do List !\")\n",
        "print(\"write Complete to cheked your list\")\n",
        "print(\"write List to view all your list\\n\")\n",
        "\n",
        "while True:\n",
        "        action = input(\"What would you like to do? \")\n",
        "        if action.lower() == \"complete\":\n",
        "            task_number = int(input(\"Enter task number: \"))\n",
        "            complete_task(task_number-1)\n",
        "            continue\n",
        "        elif action.lower() == \"list\":\n",
        "            list_tasks()\n",
        "            continue\n",
        "        while action in tasks:\n",
        "          repetitive = input(\"You have added this task, do you want to add again? (yes or no) \")\n",
        "          if repetitive.lower() == \"yes\":\n",
        "            add_task(action)\n",
        "            break\n",
        "          elif repetitive.lower() == \"no\":\n",
        "            break\n",
        "          else: \n",
        "            print(\"invalid input\")\n",
        "            continue\n",
        "        else:\n",
        "            add_task(action)\n",
        "            \n"
      ],
      "metadata": {
        "id": "P6_6QMWpfyem"
      },
      "execution_count": null,
      "outputs": []
    }
  ]
}